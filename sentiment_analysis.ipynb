{
 "cells": [
  {
   "cell_type": "code",
   "execution_count": 3,
   "id": "93dbf68b",
   "metadata": {},
   "outputs": [],
   "source": [
    "from bs4 import BeautifulSoup\n",
    "import pandas as pd\n",
    "import re\n",
    "import requests\n",
    "from selenium import webdriver\n",
    "import time"
   ]
  },
  {
   "cell_type": "code",
   "execution_count": 4,
   "id": "08f935b0",
   "metadata": {},
   "outputs": [],
   "source": [
    "SCROLL_PAUSE_TIME = 0.5"
   ]
  },
  {
   "cell_type": "code",
   "execution_count": 5,
   "id": "8fa6bf6c",
   "metadata": {},
   "outputs": [
    {
     "name": "stdout",
     "output_type": "stream",
     "text": [
      "Disease ID: HIF2016_DIS00\n"
     ]
    }
   ],
   "source": [
    "# obtain disease ID\n",
    "diseases = pd.read_csv(\"gold_standard/diseases/diseases.tsv\", sep = \"\\t\")\n",
    "disease_id = diseases[\"disease_id\"][0]\n",
    "print(\"Disease ID: \" + disease_id)"
   ]
  },
  {
   "cell_type": "code",
   "execution_count": 6,
   "id": "44709a12",
   "metadata": {},
   "outputs": [
    {
     "name": "stdout",
     "output_type": "stream",
     "text": [
      "Conversation ID: HIF2016_DIS00_CONV00\n",
      "Conversation URL: http://www.medhelp.org/posts/Allergies---Food/Does-anyone-have-an-allergy-to-coffee/show/1550820\n"
     ]
    }
   ],
   "source": [
    "filename = disease_id + \".tsv\"\n",
    "\n",
    "# obtain conversations for the disease ID\n",
    "conversations = pd.read_csv(\"gold_standard/conversations/\" + filename, sep = \"\\t\")\n",
    "conversation_id = conversations[\"conversation_id\"][0]\n",
    "conversation_url = conversations[\"url\"][0]\n",
    "print(\"Conversation ID: \" + conversation_id)\n",
    "print(\"Conversation URL: \" + conversation_url)"
   ]
  },
  {
   "cell_type": "code",
   "execution_count": 8,
   "id": "52ae3469",
   "metadata": {},
   "outputs": [
    {
     "ename": "FeatureNotFound",
     "evalue": "Couldn't find a tree builder with the features you requested: html5lib. Do you need to install a parser library?",
     "output_type": "error",
     "traceback": [
      "\u001b[0;31m---------------------------------------------------------------------------\u001b[0m",
      "\u001b[0;31mFeatureNotFound\u001b[0m                           Traceback (most recent call last)",
      "Cell \u001b[0;32mIn[8], line 21\u001b[0m\n\u001b[1;32m     18\u001b[0m         \u001b[38;5;28;01mbreak\u001b[39;00m\n\u001b[1;32m     19\u001b[0m     last_height \u001b[38;5;241m=\u001b[39m new_height\n\u001b[0;32m---> 21\u001b[0m soup \u001b[38;5;241m=\u001b[39m \u001b[43mBeautifulSoup\u001b[49m\u001b[43m(\u001b[49m\u001b[43mdriver\u001b[49m\u001b[38;5;241;43m.\u001b[39;49m\u001b[43mpage_source\u001b[49m\u001b[43m,\u001b[49m\u001b[43m \u001b[49m\u001b[38;5;124;43m\"\u001b[39;49m\u001b[38;5;124;43mhtml5lib\u001b[39;49m\u001b[38;5;124;43m\"\u001b[39;49m\u001b[43m)\u001b[49m\n\u001b[1;32m     22\u001b[0m current_post \u001b[38;5;241m=\u001b[39m soup\u001b[38;5;241m.\u001b[39mfind(\u001b[38;5;124m\"\u001b[39m\u001b[38;5;124mdiv\u001b[39m\u001b[38;5;124m\"\u001b[39m, {\u001b[38;5;124m\"\u001b[39m\u001b[38;5;124mid\u001b[39m\u001b[38;5;124m\"\u001b[39m: \u001b[38;5;124m\"\u001b[39m\u001b[38;5;124mpost_show_\u001b[39m\u001b[38;5;124m\"\u001b[39m \u001b[38;5;241m+\u001b[39m \n\u001b[1;32m     23\u001b[0m                                  conversation_url[conversation_url\u001b[38;5;241m.\u001b[39mrfind(\u001b[38;5;124m\"\u001b[39m\u001b[38;5;124m/\u001b[39m\u001b[38;5;124m\"\u001b[39m) \u001b[38;5;241m+\u001b[39m \u001b[38;5;241m1\u001b[39m:]})\n\u001b[1;32m     25\u001b[0m \u001b[38;5;66;03m# driver.find_element_by_id or \u001b[39;00m\n\u001b[1;32m     26\u001b[0m \u001b[38;5;66;03m# driver.find_element_by_class or\u001b[39;00m\n\u001b[1;32m     27\u001b[0m \u001b[38;5;66;03m# driver.find_element_by_css or\u001b[39;00m\n\u001b[1;32m     28\u001b[0m \u001b[38;5;66;03m# driver.find_element_by_xpath\u001b[39;00m\n",
      "File \u001b[0;32m~/.pyenv/versions/3.9.4/envs/data-science/lib/python3.9/site-packages/bs4/__init__.py:248\u001b[0m, in \u001b[0;36mBeautifulSoup.__init__\u001b[0;34m(self, markup, features, builder, parse_only, from_encoding, exclude_encodings, element_classes, **kwargs)\u001b[0m\n\u001b[1;32m    246\u001b[0m     builder_class \u001b[38;5;241m=\u001b[39m builder_registry\u001b[38;5;241m.\u001b[39mlookup(\u001b[38;5;241m*\u001b[39mfeatures)\n\u001b[1;32m    247\u001b[0m     \u001b[38;5;28;01mif\u001b[39;00m builder_class \u001b[38;5;129;01mis\u001b[39;00m \u001b[38;5;28;01mNone\u001b[39;00m:\n\u001b[0;32m--> 248\u001b[0m         \u001b[38;5;28;01mraise\u001b[39;00m FeatureNotFound(\n\u001b[1;32m    249\u001b[0m             \u001b[38;5;124m\"\u001b[39m\u001b[38;5;124mCouldn\u001b[39m\u001b[38;5;124m'\u001b[39m\u001b[38;5;124mt find a tree builder with the features you \u001b[39m\u001b[38;5;124m\"\u001b[39m\n\u001b[1;32m    250\u001b[0m             \u001b[38;5;124m\"\u001b[39m\u001b[38;5;124mrequested: \u001b[39m\u001b[38;5;132;01m%s\u001b[39;00m\u001b[38;5;124m. Do you need to install a parser library?\u001b[39m\u001b[38;5;124m\"\u001b[39m\n\u001b[1;32m    251\u001b[0m             \u001b[38;5;241m%\u001b[39m \u001b[38;5;124m\"\u001b[39m\u001b[38;5;124m,\u001b[39m\u001b[38;5;124m\"\u001b[39m\u001b[38;5;241m.\u001b[39mjoin(features))\n\u001b[1;32m    253\u001b[0m \u001b[38;5;66;03m# At this point either we have a TreeBuilder instance in\u001b[39;00m\n\u001b[1;32m    254\u001b[0m \u001b[38;5;66;03m# builder, or we have a builder_class that we can instantiate\u001b[39;00m\n\u001b[1;32m    255\u001b[0m \u001b[38;5;66;03m# with the remaining **kwargs.\u001b[39;00m\n\u001b[1;32m    256\u001b[0m \u001b[38;5;28;01mif\u001b[39;00m builder \u001b[38;5;129;01mis\u001b[39;00m \u001b[38;5;28;01mNone\u001b[39;00m:\n",
      "\u001b[0;31mFeatureNotFound\u001b[0m: Couldn't find a tree builder with the features you requested: html5lib. Do you need to install a parser library?"
     ]
    }
   ],
   "source": [
    "# TODO: Need to scrape reviews from oldest to newest and disable multi-page: perhaps use Selenium here?\n",
    "#       Extract posts based on the number needed in the dataframe\n",
    "\n",
    "chrome_options = webdriver.ChromeOptions()\n",
    "chrome_options.add_argument(\"--incognito\")\n",
    "chrome_options.add_argument(\"headless\")\n",
    "\n",
    "driver = webdriver.Chrome(options = chrome_options)\n",
    "driver.get(conversation_url + \"?sort_by=oldest\")\n",
    "\n",
    "last_height = driver.execute_script(\"return document.body.scrollHeight\")\n",
    "\n",
    "while True:\n",
    "    driver.execute_script(\"window.scrollTo(0, document.body.scrollHeight);\")\n",
    "    time.sleep(SCROLL_PAUSE_TIME)\n",
    "    new_height = driver.execute_script(\"return document.body.scrollHeight\")\n",
    "    if new_height == last_height:\n",
    "        break\n",
    "    last_height = new_height\n",
    "\n",
    "soup = BeautifulSoup(driver.page_source, \"html5lib\")\n",
    "current_post = soup.find(\"div\", {\"id\": \"post_show_\" + \n",
    "                                 conversation_url[conversation_url.rfind(\"/\") + 1:]})\n",
    "\n",
    "# driver.find_element_by_id or \n",
    "# driver.find_element_by_class or\n",
    "# driver.find_element_by_css or\n",
    "# driver.find_element_by_xpath"
   ]
  },
  {
   "cell_type": "code",
   "execution_count": null,
   "id": "b5dd1d36",
   "metadata": {},
   "outputs": [],
   "source": [
    "str(current_post)"
   ]
  },
  {
   "cell_type": "code",
   "execution_count": null,
   "id": "f322cc82",
   "metadata": {},
   "outputs": [],
   "source": [
    "pattern = r\"<div class=\\\"resp_body\\\">(.*?)</div>\"\n",
    "divs = re.findall(pattern, str(current_post))"
   ]
  },
  {
   "cell_type": "code",
   "execution_count": null,
   "id": "a2bcf75f",
   "metadata": {},
   "outputs": [],
   "source": [
    "divs"
   ]
  }
 ],
 "metadata": {
  "kernelspec": {
   "display_name": "Python 3 (ipykernel)",
   "language": "python",
   "name": "python3"
  },
  "language_info": {
   "codemirror_mode": {
    "name": "ipython",
    "version": 3
   },
   "file_extension": ".py",
   "mimetype": "text/x-python",
   "name": "python",
   "nbconvert_exporter": "python",
   "pygments_lexer": "ipython3",
   "version": "3.9.4"
  }
 },
 "nbformat": 4,
 "nbformat_minor": 5
}
