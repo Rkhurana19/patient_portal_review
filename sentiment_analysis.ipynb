{
 "cells": [
  {
   "cell_type": "code",
   "execution_count": 115,
   "id": "7f75f80f",
   "metadata": {},
   "outputs": [],
   "source": [
    "from bs4 import BeautifulSoup\n",
    "import pandas as pd\n",
    "from selenium import webdriver\n",
    "import time"
   ]
  },
  {
   "cell_type": "code",
   "execution_count": 116,
   "id": "215007f3",
   "metadata": {},
   "outputs": [],
   "source": [
    "SCROLL_PAUSE_TIME = 0.5"
   ]
  },
  {
   "cell_type": "code",
   "execution_count": 117,
   "id": "6bdd8663",
   "metadata": {},
   "outputs": [],
   "source": [
    "def collect_sentences(original_post, responses):\n",
    "    print(original_post)\n",
    "    print()\n",
    "    print(responses)"
   ]
  },
  {
   "cell_type": "code",
   "execution_count": 118,
   "id": "aaaf6790",
   "metadata": {},
   "outputs": [],
   "source": [
    "# NOTE: may need to remove \\n characters depending on semantics of how they parsed sentences. Also\n",
    "# may need to replace the unicode vestigial characters with empty string instead of space.\n",
    "\n",
    "def scrape_url(conversation_url):\n",
    "    print(\"Conversation URL: {}\".format(conversation_url))\n",
    "        \n",
    "    chrome_options = webdriver.ChromeOptions()\n",
    "    chrome_options.add_argument(\"--incognito\")\n",
    "    chrome_options.add_argument(\"headless\")\n",
    "\n",
    "    driver = webdriver.Chrome(options = chrome_options)\n",
    "    driver.get(conversation_url + \"?sort_by=oldest\")\n",
    "\n",
    "    last_height = driver.execute_script(\"return document.body.scrollHeight\")\n",
    "\n",
    "    while True:\n",
    "        driver.execute_script(\"window.scrollTo(0, document.body.scrollHeight);\")\n",
    "        time.sleep(SCROLL_PAUSE_TIME)\n",
    "        new_height = driver.execute_script(\"return document.body.scrollHeight\")\n",
    "        if new_height == last_height:\n",
    "            break\n",
    "        last_height = new_height\n",
    "\n",
    "    soup = BeautifulSoup(driver.page_source)\n",
    "    \n",
    "    original_post = soup.find(\"div\", {\"id\" : \"subject_msg\"}).text\n",
    "    html_id = \"post_show_\" + conversation_url.split(\"/\")[-1]\n",
    "    current_conversation = soup.find(\"div\", {\"id\" : html_id})\n",
    "    \n",
    "    responses = [str(response.text) for response in current_conversation.find_all(\"div\", {\"class\" : \"resp_body\"})]\n",
    "    responses = [response.replace(u\"\\xa0\", u\" \").strip() for response in responses]\n",
    "    \n",
    "    collect_sentences(original_post, responses) "
   ]
  },
  {
   "cell_type": "code",
   "execution_count": 119,
   "id": "dd46febf",
   "metadata": {},
   "outputs": [],
   "source": [
    "def scrape_conversations(disease):\n",
    "    conversations = pd.read_csv(\"gold_standard/conversations/\" + \n",
    "                                disease + \".tsv\", delimiter = \"\\t\")\n",
    "    \n",
    "    for url in conversations[\"url\"]:\n",
    "        scrape_url(url)\n",
    "        break"
   ]
  },
  {
   "cell_type": "code",
   "execution_count": 120,
   "id": "e50e2a9c",
   "metadata": {},
   "outputs": [],
   "source": [
    "def driver():\n",
    "    diseases = pd.read_csv(\"gold_standard/diseases/diseases.tsv\", delimiter = \"\\t\")\n",
    "    \n",
    "    for disease in diseases[\"disease_id\"]:\n",
    "        print(\"Disease ID: {}\".format(disease))\n",
    "        scrape_conversations(disease)\n",
    "        break"
   ]
  },
  {
   "cell_type": "code",
   "execution_count": 121,
   "id": "3b949192",
   "metadata": {},
   "outputs": [
    {
     "name": "stdout",
     "output_type": "stream",
     "text": [
      "Disease ID: HIF2016_DIS00\n",
      "Conversation URL: http://www.medhelp.org/posts/Allergies---Food/Does-anyone-have-an-allergy-to-coffee/show/1550820\n",
      "\n",
      "          I have been a coffee drinker on and off since I was little.  I notice now that I am older, and perhaps I have always had this issue just did not correlate the connection between the two, but I have to wonder if it is possible for me to have an allergy to coffee.\n",
      "\n",
      "When I drink it, if I drink about 2 cups a day spaced out, it takes about a week for me to get these symptoms:\n",
      "\n",
      "- sore throat\n",
      "- increased nasal drainage and nasal drip in the back of my throat\n",
      "- sometimes slight eye swelling\n",
      "- slight cough\n",
      "\n",
      "I always kind of said oh it's just allergies from pollen or I am catching a cold... but in fact when I do not consume coffee, I am back to normal in about 3 days.  I tried to find some information on this but it seems hard to read up on.\n",
      "\n",
      "Would be great if anyone had any feedback on this.  Thanks so much.\n",
      "      \n",
      "\n",
      "['Are you drinking decaf or caffeinated?', \"That does sound like you have a food sensitivity to coffee.  I don't think it's the caffeine, but one way you can figure out if it's caffeine is to try black or green tea (both are from the same plant).  Just be mindful that the green tea can still carry a problem with lead from the processing.  Dr. Mercola has articles that explain this more thoroughly.  There are some that he explains don't have this risk.  I know it seems like there shouldn't be a risk, since they are steaming, then drying to keep the leaves green.  So, I'm not sure where the lead comes from.  But, black tea doesn't carry the same risk.  I myself simply can't drink tea, though, because the tannin bothers me.\", \"I can tolerate tea for about 3 days it seems and that is black tea, herbal teas do not bother me, green tea gives me headaches.  I did try Dr. Mercola's suggestion of teas and actually bought about 6 packs of the varieties, but it wasn't too pleasing to the pallet for me.\\n\\nBlack tea will make me nauseated on an empty stomach and I think that's because of the tannins too.  So far it has been about 3 days without the coffee or tea and my sinuses have dried up.  My throat is no longer swollen and my cough went away.  And yes this is caffeinated coffee and tea.  Hardest food allergy/intolerance to break when you adore the smells of coffee :(  But at the same time frustrating if I have really consumed these things for  over 20 some years not knowing it was causing these symptoms and never putting the two together.\\n\\nI tried in ernest to switch myself to green tea a few years ago and was able to get off the coffee, but then I started developing consistent headaches daily.  Read up on that and some people have an intolerance to green tea that causes this, grr... so back to coffee I ended up going.  Now it looks like herbal tea and rooibos tea are my only options.\", \"I think you're right.  I don't tolerate the tea plant at all myself.  The GERD is bothered by it, but I also get headaches from the tea plant.  So, like you, I can't touch the real tea.  It doesn't really surprise me that you are so attracted to the smell of coffee, even though you are clearly allergic to it.  I've learned a few years ago that often both people and pets tend to crave the very things they are allergic or sensitive to.  I know that this is true even of my cat.  She is definitely allergic to grains, but if there is something that smells really good to her that is loaded with grains, she wants it.  And, she will try to take it.  She isn't normally like this with foods she isn't allergic to.  If I'm eating meat, which she doesn't seem to have any allergies to that I don't have, she behaves herself quite nicely.  She might beg, but she begs politely instead of trying to take something.  When I saw that this happens even with the cat, I knew that what I had read about craving things one is allergic to is true and it can't be just psychological.  Cats are obligate carnivores after all.  There is likely a psychological connection, but it seems that there must be a physical connection, too, since the cat does this somewhat if something is really rich, like muffins, which I haven't had in forever since I haven't figured out how to make gluten free.\", 'Yeah we had switched our cats to a grain free food and our dog too called Tasted of the Wild:\\n\\nhttp://www.tasteofthewildpetfood.com/\\n\\nYou can find their food at your Tractor Supply stores.  It costs a little more than normal cheap dogwoods/catfoods but has really been worth it for them.  Their coats thickened up and they are eating less because they are actually full.\\n\\nAs for my coffee intolerance yes amazing that I enjoy the smell of it so much :(  Gotta retrain myself.', \"I think after a while you do actually start to feel more displeasure from the stuff you crave.  There are times when my body has had enough coffee, so I have no pleasure in the coffee aisle--just a lot of sneezing.  I don't drink it all the time, but it does actually help with migraines if I don't drink too much of it.\\n\\nThat's a good resource for dog owners to know about.  I don't personally have a dog, but so many people do, so it's greatly appreciated that you posted that information.\", \"It's been about 6 days without coffee or tea, grrr, lol  Definitely a challenge for me.  Everyone always says try herbal teas, but yes they are not quite the same.  I do feel good and I am sleeping well.  My throat is not dry or irritated.  And besides for just regular pollen sneezes I am not having a lot of phlegm or runny noses.\\n\\nI just have to take it one day at a time and get myself acclimated.  You get used to having something and it's hard to let go of it.\\n\\nGlad you enjoyed the link, I had to do a lot of research to get to that myself so love to share it when it applies :D\", 'I am allergic to coffee. A scratch test showed the allergy. However, I am allergic to coffee only if I drink it. Smelling it does not bother me. I also have to avoid mocha. Since coffee is roasted, the protein must be in the roasted bean.', \"I don't know if this is right or not, but it seems like I remember there being a common protein or a common natural chemical in both coffee and chocolate.  I know that both have to be roasted in order to use them, too.\", \"You are both right actually I was reading about this recently as well that it is actually the protein in the coffee that causes this.  I had broke down this past week and had coffee and then I wake up the next day with swollen eyes and face.  It's one thing with shrimp I recently had a pretty bad reaction that I never had before and broke out in a rash and welts all over my legs--- I know now not to eat shellfish.  But the caffeine habit is hard to break because I get the physical addiction of a headache, nausea, fatigue.  So what I am going to do this week is cut out the coffee/tea etc and if I get a caffeine headache, take an Excendrin for Tension headaches. (that has tylenol/caffeine 65 mg) and just ween myself that way.  It's obvious this is causing a reaction so using coffee to ween isn't helping.  I'm really glad to hear of others with the same issue.  It makes me feel better.\", \"I am allergic to coffee, but bc it has a high content of nickel (which I'm allergic to).  If you notice feeling sick after eating other nickel-high foods (beans, chocolate, peas, whole wheats)...or if you react when wearing cheap jewlry, you may want to get tested for nickel allergy.\", \"Another note...tea is also high in nickel and fish....you should get tested for allergies....I've recently become very intolerant because of an increase in nickel in my body (as I got a body implant)...so now every time I'm exposed to nickel (even in medications, and even aspirin I react....If you recently got cavities filled, a surgery...etc....you should look into a metal allergy.  Melisa.org has many great resources to educate about metal allergy.\", \"That's a good resource.  I bookmarked it.  I have relatives with nickel allergies, and they might not be aware of the foods that make them feel worse.  Plus, several of us have chronic illnesses, so this might be a contributing factor.\", 'Great resource betbri, I never knew about metal allergies.  Nor did I realize it has a high content of nickel in it.  That is very interesting indeed.  I actually had some of the metals removed from my mouth and replaced with white fillings.  I did read up on some of the vapors that can be given off from amalgam fillings and was astonished.  I have a few that still need to be replaced, but better than the many I had in there.  Did you do the Melisa test betbri or just go to your allergy doctor to be tested?', 'I did get the Melisa test done.  In the last couple weeks I have taken all the nickel out of my diet and feel much better!  I still have many symtoms of allergies but there is finally hope!   I learned a few important facts to consider when trying to track down the source of chronic problems such as fatigue, and pain...so I will list them and hope it helps you two, and possibly someone else reading this :)\\n\\nDoctors are very much unaware of metal allergies in the US (versus other countries that have done loads of research and some countries test every patient for metal allergy before putting fillings, implants in).\\n\\nAccording to study after study, around 10% of the population is allergic to nickel (with a higher percentage of women affected).\\n\\nIf a person is allergic to one metal, it\\'s over 50% of those that are allergic to 2 or 3 metals (so it\\'s important to be tested until you rule out allergy to multiple metals).\\n\\nEating certain food for someone allergic to metal causes illness (not just skin rashes to jewelry).\\n\\nIt\\'s very important when suspecting an allergy to medications to look at the INACTIVE ingredients in pills.  For instance I have a list of meds I\\'m allergic to...and the docs just put \"allergic to aspirin, wellbutrin, etc...\" when in reality the one common element in all I\\'m allergic to is certain types of metal in the coating.  You\\'re doctor will not help figure out your REAL allergy...because almost no one is actually allergic to the active ingredients in pills, but doctors only list the pill your allergic to and don\\'t ask what it is about those pills you are allergic to.\\n\\nYou can test allergic to foods that contain metals (brocolli, chocoate, whole wheat, etc...) and again, it may be that you\\'re allergic to those food because of a metal or additive added....so if a person is allergic to multiple foods it\\'s important to rule out the possibility of a common element in all of them.\\n\\nIt has been a harsh reality to release that you have to be your own advocate, and that doctors many times don\\'t test for things for those with chronic issues that can\\'t pinpoint exacty what\\'s wrong.  I went in to food allergists many years ago that literally wouldn\\'t test me for allergies because they didn\\'t think I had enough \"evidence\" that I was allergic.  For those of us with chronic fatigue and \"vague\" symptoms like stomach aches, migraines, etc....it\\'s very unlikely that a doctor would order a whole battery of testing to rule out the many many illnesses that could cause these things.\\n\\nSo....please....if you are a person that has skin reactions when you wear certain jewelry, or have chronic acne and rash on face from makeup (which contains high amounts of metal), or react when eating food high in metal content (nuts, many veggies, coffe....) then please do yourself a favor and order the Melissa test yourself!  A doctor will literally look at you like you\\'re nuts or a hypocondriac if you tell him/her that you think you\\'re allergic to metal. (I told all my doctors when they ask at the beginning of appointments when I\\'m allergic to that I\\'m allergic to metal and they literally don\\'t put it in my records...many say things like \"no...I mean like medications and food...not skin reaction to jewelry.)  \\n\\nThis has been a long road for me and it wasn\\'t until I got all of my medical records for myself and noticed the correlations for myself and ordered the metal allergy test without a doctor willing to order for me, that I was able to confirm the source of all my illness...so...even though it\\'s a harsh reality, it seems that especially those with chronic, multiple ailments have to be their own advocate and in my case (and I\\'m assuming for others) take matters into our own hands after being told by docts that there\\'s nothing wrong and \"it may be just normal for you to be tired\"....Sorry for the crazy long post!  But I hope these few facts help someone else out there, to shorten their road to recovery because it took me so long to figure this out!\\n\\nMelisa.org has a great section of medical journals that talk about many things in regards to metal allergy...probably the best place for anyone to start...', \"I am definitely glad you spoke up about this.  I do get skin reactions from certain metals.  One in particular was a natural makeup I had started to use which was Bare Essentials.  They advertise it as being completely natural etc.  but what was interesting was that I used it and every time I used it I would get very itchy on skin to the point where I couldn't stand it.  Come to find out it has Bismuth in it and there are a lot of makeups out there that do have this.\\n\\nhttp://makeup.lovetoknow.com/Allergy_to_Mineral_Makeup\\n\\nAs soon as I stopped using it the issue cleared up right away.\\n\\nAnd yes we do have to be our own advocates.  We have to pay attention to what we ingest and encounter and if it does cause an issue, we need to stay away from it.  If only caffeine was easy to stay away from :(\", \"This is interesting to me about the mineral make-up.  I hadn't thought of this at all, but metals are considered to be minerals.  I haven't looked up the above link, but what I was thinking of was that a friend used some on me--once.  I didn't get the severe allergic reactions that people who get rashes from metals would probably get, but I did get a bit itchy.  The thing is, I can wear the cheap costume jewelry metals, like the metal watchband that I have that I know my cousins with metal allergies can't wear.  But, the cheap ear wires and other costume jewelry metals do bother my ears a little.  So, I do switch out the ear wires to the sterling silver and the gold filled slightly more expensive ear wires.  I am fine with these, but I know my cousins are still not fine with these, and neither is someone else I know who can only wear pure yellow gold.  So, she doesn't have a whole lot of jewelry that she wears regularly because of this.\\n\\nWhat I'm wondering is if the milder reaction I get from the cheap ear wires is more of a sensitivity to nickel and other cheaper metals, or is it something else?\", \"Look at Melisa.org and do some research on metal allergies....you could be a great help to those you know who are getting reactions to jewlry....some poeple are allergic to titanium, some to silver, some gold....most commonly people are allergic to nickel....which represents 10% of the population who are allergic.  A large number of people allergic to metals are allergic to multiple types of metal....so a reaction to just cheap jewelry probably indicates a nickel allergy. it is important to note that almost all things made of metal are alloys...meaning it is a mix of metal.  For instance, I had a copper IUD that caused me to have 13 cysts within 2 months of insertion....turns out there was nickel in it also..\\n\\nThe important thing to note is that many people don't respond with significant health problems until they get metal inserted in the body....such as cavity filings...contrast given for MRI's....so it is so important to be aware of the allergy and know to ask what includes metal or not....however, the impact a person may feel when having a metal allergy and being exposed through jewelry, deoderant, make up, toothpaste, candy.....is unknown.  Before I had a back implant I was sluggish and sick often...turns out it was undiagnosed allergy to metal.\\n\\nI was just ordered to get an MRI with contrast...being extra careful i asked if there was metal in the contrast, I was told there was no metal.  For some reason I thought that I should make sure...turns out there is a very high metal content!  The doctor and even tech administering the contrast had no idea, but the main active ingredient in metal and many contrast solution in nickel based or copper based...given that the nickel content in a piece of chocolate cake can send my heart rate up to 130, I hate to think of what could have happened had I taken the doctor's word that there was no metal in the contrast!\", \"Don't worry.  I will find out more.  I do know about the white gold, for example, because a friend with metal allergies found out that white gold still has metal alloys in it.  She can't wear the white gold because of the alloys.  I don't understand why doctors assume that a skin allergy to metals isn't serious enough to consider that taking the stuff internally would still be bad.  I mean, the whole reason the skin scratch tests work as tests is because the skin is reacting to something the whole body is allergic to.  And, the skin is the largest organ in the body.  It just happens to be on the outside.  I did look at the MELISA site.  I plan on sending the link to a cousin of mine, since she and all of her sisters are allergic to metals.  They may not be aware of the food allergy connection.  I have a lot of sensitivities versus allergies.  Now I'm beginning to wonder if the milder reaction I get from cheap ear wires, whether nickel or stainless steel, is connected to the food sensitivities.  I will definitely be on guard and not allow any metal devices to be inserted in my body, since I have sensitivities.\", 'What is comical and also something to think about is when you get dental work done.   About 6 months ago I had a root canal done on a back tooth, the dentist had file separation occur while performing the procedure.\\n\\nWhat is file separation I asked--- and he calmly explains to me that the drill broke off into my root system.  So yes I now have a little piece of titanium that you can see in my x-ray.  Thank goodness I have not had any allergic reaction to it or issues.', \"I have the exact same reaction to coffee and tea as you...\\n- sore throat \\n- increased nasal drainage and nasal drip in the back of my throat \\n- sometimes slight eye swelling \\n- slight cough \\n\\nI cut out both but something is still causing this reaction. I don't drink soda. I cut out wine. What else is out there that is similar to coffee and tea that would be causing it? I can't figure it out and it's driving me crazy!\\nThanks\", 'I also will get these symptoms after drinking coffee regularly for several days:\\n\\n- sore/swollen throat\\n- increased nasal drainage and nasal drip in the back of my throat\\n- sinus pressure and eye swelling\\n- slight cough\\n\\nI love the taste of coffee but have given it up and feel much the better.', \"I guess I have the extreme end then. I have been deadly allergic to the coffee bean protein all my life. Like peanut allergy smell, contact or taste will cause my lungs to cease in minutes. Death is imminent in 10 minutes. I cannot go near coffee shops as I would need a type 3 bio hazard suit and that would cause a huge problem. I am not kidding either I really am that dangerously allergic to coffee. Some kinds ill pass out if i smell it in minutes while others ill cough a lot and manage to get out of range. It's not a caffeine issue as I can drink tea no problem I was told im allergic to the coffee bean proteins themselves.\", \"Investigate dairy products such as milk and cheese.  Include cow's milk versus goat's milk, etc.  I have asthma and my son inherited it from me.  He mentioned the connection and I am checking it out now.  So far, for me there does seem to be a strong parallel between consuming dairy products from a cow and  asthma (and phlegm).\", 'Interesting thread with great comments ....\\n\\nC~', 'I am allergic to coffee as well. If I drink one cup, I will be with fever and fatigued in bed for two days. Perhaps it is the metal content; however, I do not experience hives, rash or swelling. I have not drank coffee or related products for three years, yet I am frequently exposed to many metals and have not experienced any allergies to them.', \"You are the first person I've heard about in my Google searches so far who's got a true IgE food allergy to the coffee bean. Thank you for sharing your experience! My 20-month-old son got a tiny sip of a black coffee drink (no milk or other ingredients added) and almost needed his EpiPen Jr  before his reaction stopped progressing on its own. His face, back, and chest got littered in hives, even his eyelids. His eyes got all red and itchy, and his nose started running off his face, which induced some sneezing and coughing. He then acted very cranky and off, and even felt fevered, for the next two days. He has an appt this Tuesday with his allergist to verify the coffee bean allergy. He's already very allergic to peanuts, nuts, eggs, and dairy, so I don't know how in the world we're adding a potentially anaphylaxis allergy to coffee, of all things. It's everywhere when you really think about it!\", \"Thank you so much for posting your experience.\\nI have pretty much the same history as you!\\nI've known for years (probably about 10) that coffee is not too good for me, but I am so addicted to the smell and feel of it.\\nI could practically reiterate my experiences as your own so I won't bother.\\nI am currently trying to quite right now.\\nPlease wish me luck.\\nI am so done with having these allergy attacks.  Drinking decaff seems to help marginally.  I am so tired of the constant post nasal drip.  But as a new mother, this last year has been very difficult for me to stop with the increased stress and insomnia.\\nBlack tea sometimes gives me headaches and even non-caffeinated rooibos gives me headaches and dry mouth.  \\nThanks again.  I will try to post again once I quit for a while and observe the outcome.\", \"I just found this post on coffee allergy and this seems closest to what I have. I'm 45 and on/off have been drinking coffee. In the last year, at least once a week I've had a very bad allergy attack similar to hay fever. Stuffy nose, congestion, headache and sneezing. \\n\\nIt happens so frequently I was ready to go to the doctor but before going, I wanted to start tracking my daily behavior to narrow down what could be causing it. I drink wine, I smoke - I'm sure it could be any number of things. I stopped wine for a while and I was still getting them. I cut out cigarettes and was still getting them. \\n\\nThen one day, I decided to switch to tea instead of coffee and within one week, I wasn't getting the allergy attacks anymore! There is very little online about the type of coffee allergy I've been experiencing but in doing some initial research, it looks like this is developing over time and perhaps its not an actual caffeine allergy as it is something to do with the coffee or it's processing methods. I think more research needs to be done in this area..\", \"There is a link between coffee sensitivity and gluten sensitivity! If you have gluten problems then it is very likely that the protein found in coffee is causing you the problems! You may not be able to digest the protein in coffee that is similar to the protein found in gluten. I developed this same problem! I am gluten intolerant! I began to realize that after drinking coffee, I had the same symptoms of swelling eyes, nasal drip and itchy ears! After doing a little research I came across a few articles about coffee and gluten sensitivity!  Google coffee and gluten sensitivity!  I love coffee and this was very disappointing for me! I now drink a coffee substitution and feel much better!  It was tough to give up coffee but my immune system was really working over time trying to fight off the immune response of my system trying to digest the protein in the coffee.  I now realize I have a coffee intolerance just as I have a gluten intolerance. It's the inability to digest the protein in both.\"]\n"
     ]
    }
   ],
   "source": [
    "driver()"
   ]
  }
 ],
 "metadata": {
  "kernelspec": {
   "display_name": "Python 3 (ipykernel)",
   "language": "python",
   "name": "python3"
  },
  "language_info": {
   "codemirror_mode": {
    "name": "ipython",
    "version": 3
   },
   "file_extension": ".py",
   "mimetype": "text/x-python",
   "name": "python",
   "nbconvert_exporter": "python",
   "pygments_lexer": "ipython3",
   "version": "3.9.4"
  }
 },
 "nbformat": 4,
 "nbformat_minor": 5
}
