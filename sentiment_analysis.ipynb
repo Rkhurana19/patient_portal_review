{
 "cells": [
  {
   "cell_type": "code",
   "execution_count": null,
   "id": "7f75f80f",
   "metadata": {},
   "outputs": [],
   "source": [
    "from bs4 import BeautifulSoup\n",
    "import pandas as pd\n",
    "from selenium import webdriver\n",
    "import time"
   ]
  },
  {
   "cell_type": "code",
   "execution_count": null,
   "id": "215007f3",
   "metadata": {},
   "outputs": [],
   "source": [
    "SCROLL_PAUSE_TIME = 0.5"
   ]
  },
  {
   "cell_type": "code",
   "execution_count": null,
   "id": "f20f88e1",
   "metadata": {},
   "outputs": [],
   "source": [
    "def add_posts(conversation_posts, usernames, posts_dataframe, conversation_id):\n",
    "    start_row = posts_dataframe[posts_dataframe[\"conversation_id\"] == conversation_id].index[0]\n",
    "    end_row = posts_dataframe[posts_dataframe[\"conversation_id\"] == conversation_id].index[-1]\n",
    "    \n",
    "    for post_number in range(start_row, end_row + 1):\n",
    "        print(\"Expected author of post {} is {}\".format(post_number, \n",
    "                                                        posts_dataframe.loc[post_number, \"author\"]))\n",
    "        print(\"Extracted author of post {} is {}\".format(post_number,\n",
    "                                                         usernames[post_number - start_row]))\n",
    "        \n",
    "        if (usernames[post_number - start_row] == \n",
    "            posts_dataframe.loc[post_number, \"author\"]):\n",
    "            posts_dataframe.loc[post_number, \"post\"] = conversation_posts[post_number - start_row]\n",
    "               \n",
    "    print(posts_dataframe)"
   ]
  },
  {
   "cell_type": "code",
   "execution_count": null,
   "id": "aaaf6790",
   "metadata": {},
   "outputs": [],
   "source": [
    "def scrape_url(conversation_url):\n",
    "    print(\"Conversation URL: {}\".format(conversation_url))\n",
    "        \n",
    "    chrome_options = webdriver.ChromeOptions()\n",
    "    chrome_options.add_argument(\"--incognito\")\n",
    "    chrome_options.add_argument(\"headless\")\n",
    "\n",
    "    driver = webdriver.Chrome(options = chrome_options)\n",
    "    driver.get(conversation_url + \"?sort_by=oldest\")\n",
    "    \n",
    "    last_height = driver.execute_script(\"return document.body.scrollHeight;\")\n",
    "\n",
    "    while True:\n",
    "        driver.execute_script(\"window.scrollTo(0, document.body.scrollHeight);\")\n",
    "        time.sleep(SCROLL_PAUSE_TIME)\n",
    "        new_height = driver.execute_script(\"return document.body.scrollHeight;\")\n",
    "        if new_height == last_height: \n",
    "            break\n",
    "        last_height = new_height\n",
    "\n",
    "    soup = BeautifulSoup(driver.page_source)\n",
    "    \n",
    "    post_list = soup.find(\"div\", {\"id\" : \"post_show_\" + conversation_url.split(\"/\")[-1]})\n",
    "    original_post = soup.find(\"div\", {\"id\" : \"subject_msg\"}).text\n",
    "    original_username = (soup.find(\"div\", {\"class\" : \"subj_info\"})\n",
    "                             .find(\"div\", {\"class\" : \"username\"}).a.text)\n",
    "                         \n",
    "    posts = [original_post]\n",
    "    responses = post_list.find_all(\"div\", {\"class\" : \"resp_body\"})\n",
    "    for response in responses:\n",
    "        posts.append(response.text)\n",
    "    \n",
    "    usernames = [original_username]\n",
    "    responders = post_list.find_all(\"div\", {\"class\" : \"resp_info\"})\n",
    "    for responder in responders:\n",
    "        responder = responder.find(\"div\", {\"class\" : \"username\"})\n",
    "        usernames.append(responder.a.text)\n",
    "        \n",
    "    assert(len(usernames) == len(posts))\n",
    " \n",
    "    for index in range(len(posts)):\n",
    "        posts[index] = posts[index].replace(u\"\\xa0\", \" \").strip()\n",
    "        usernames[index] = usernames[index].replace(u\"\\xa0\", \" \").strip()\n",
    "        \n",
    "    return posts, usernames"
   ]
  },
  {
   "cell_type": "code",
   "execution_count": null,
   "id": "dd46febf",
   "metadata": {},
   "outputs": [],
   "source": [
    "def scrape_conversation_posts(disease):\n",
    "    conversations = pd.read_csv(\"gold_standard/conversations/\" + disease + \".tsv\", delimiter = \"\\t\")\n",
    "    posts_dataframe = pd.read_csv(\"gold_standard/posts/\" + disease + \".tsv\", delimiter = \"\\t\")\n",
    "    expected_posts_per_conversation = posts_dataframe[\"conversation_id\"].value_counts()\n",
    "    \n",
    "    for index, row in conversations.iterrows():\n",
    "        conversation_posts, usernames = scrape_url(row[\"url\"])\n",
    "        \n",
    "        print(\"Number of extracted conversation posts / usernames: {}\".format(len(conversation_posts)))\n",
    "        print(\"Expected number of posts to be analyzed: {}\".format(\n",
    "            expected_posts_per_conversation[row[\"conversation_id\"]]))\n",
    "        assert(len(conversation_posts) >= expected_posts_per_conversation[row[\"conversation_id\"]])\n",
    "        \n",
    "        add_posts(conversation_posts, usernames, posts_dataframe, row[\"conversation_id\"])\n",
    "        \n",
    "        break"
   ]
  },
  {
   "cell_type": "code",
   "execution_count": null,
   "id": "e50e2a9c",
   "metadata": {},
   "outputs": [],
   "source": [
    "def driver():\n",
    "    diseases = pd.read_csv(\"gold_standard/diseases/diseases.tsv\", delimiter = \"\\t\")\n",
    "    \n",
    "    for disease in diseases[\"disease_id\"]:\n",
    "        print(\"Disease ID: {}\".format(disease))\n",
    "        scrape_conversation_posts(disease)\n",
    "        break"
   ]
  },
  {
   "cell_type": "code",
   "execution_count": null,
   "id": "3b949192",
   "metadata": {},
   "outputs": [],
   "source": [
    "driver()"
   ]
  }
 ],
 "metadata": {
  "kernelspec": {
   "display_name": "Python 3 (ipykernel)",
   "language": "python",
   "name": "python3"
  },
  "language_info": {
   "codemirror_mode": {
    "name": "ipython",
    "version": 3
   },
   "file_extension": ".py",
   "mimetype": "text/x-python",
   "name": "python",
   "nbconvert_exporter": "python",
   "pygments_lexer": "ipython3",
   "version": "3.9.4"
  }
 },
 "nbformat": 4,
 "nbformat_minor": 5
}
